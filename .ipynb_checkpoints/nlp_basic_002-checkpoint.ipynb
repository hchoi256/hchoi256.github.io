{
 "cells": [
  {
   "cell_type": "markdown",
   "metadata": {},
   "source": [
    "Machine (기계)는 문자와 단어를 이해할 수 없다!\n",
    "\n",
    "0과 1로 이루어진 이진 형태의 데이터를 기계는 이해할 수 있다!\n",
    "\n",
    "Computer Vision의 가장 기본은 이미지는 픽셀 (pixel)로 이루어져 있고,\n",
    "픽셀에 대한 정보는 x, y와 같은 픽셀의 위치 그리고 해당 픽셀의 색상 정보 (보통 RGB)를 가지고 있다.\n",
    "이런 정보들은 숫자로 쉽게 만들 수가 있다!"
   ]
  },
  {
   "cell_type": "markdown",
   "metadata": {},
   "source": [
    "텍스트 데이터를 기계가 이해할 수 있도록 숫자로 표현해야 한다!\n",
    "\n",
    "CountVectorizer는 텍스트를 숫자 데이터로 변환하는 방법!"
   ]
  },
  {
   "cell_type": "markdown",
   "metadata": {},
   "source": [
    "언어학 (linguistics)에서 말뭉치 (corpus) 또는 텍스트 말뭉치는 크고 구조화된 텍스트 집합으로 구성된 언어 자원이다! => 최근에는 일반적으로 컴퓨터에서 저장 및 처리되는 형태\n",
    "\n",
    "corpus linguaistics (말뭉치 언어학) : 통계 분석 및 가설 테스트를 수행하고, 특정 언어 영역 내에서 발생을 확인하거나 언어 규칙을 검증하는데 말뭉치를 사용"
   ]
  },
  {
   "cell_type": "code",
   "execution_count": 1,
   "metadata": {},
   "outputs": [],
   "source": [
    "import pandas as pd\n",
    "import numpy as np"
   ]
  },
  {
   "cell_type": "code",
   "execution_count": 2,
   "metadata": {},
   "outputs": [],
   "source": [
    "text1 ='''Tracy loves writing about data science.'''"
   ]
  },
  {
   "cell_type": "code",
   "execution_count": 3,
   "metadata": {},
   "outputs": [
    {
     "name": "stdout",
     "output_type": "stream",
     "text": [
      "Collecting scikit-learn\n",
      "  Using cached scikit_learn-1.1.1-cp39-cp39-win_amd64.whl (7.4 MB)\n",
      "Requirement already satisfied: numpy>=1.17.3 in .\\venv\\lib\\site-packages (from scikit-learn) (1.23.1)\n",
      "Requirement already satisfied: joblib>=1.0.0 in .\\venv\\lib\\site-packages (from scikit-learn) (1.1.0)\n",
      "Collecting threadpoolctl>=2.0.0\n",
      "  Using cached threadpoolctl-3.1.0-py3-none-any.whl (14 kB)\n",
      "Collecting scipy>=1.3.2\n",
      "  Using cached scipy-1.8.1-cp39-cp39-win_amd64.whl (36.9 MB)\n",
      "Installing collected packages: threadpoolctl, scipy, scikit-learn\n",
      "Successfully installed scikit-learn-1.1.1 scipy-1.8.1 threadpoolctl-3.1.0\n",
      "Note: you may need to restart the kernel to use updated packages.\n"
     ]
    }
   ],
   "source": [
    "%pip install scikit-learn"
   ]
  },
  {
   "cell_type": "code",
   "execution_count": 4,
   "metadata": {},
   "outputs": [],
   "source": [
    "# Countvectorizer : 텍스트를 수치 데이터로 변화하는데 사용하는 method! sklearn을 통해 사용이 가능"
   ]
  },
  {
   "cell_type": "code",
   "execution_count": 5,
   "metadata": {},
   "outputs": [],
   "source": [
    "from sklearn.feature_extraction.text import CountVectorizer"
   ]
  },
  {
   "cell_type": "code",
   "execution_count": 7,
   "metadata": {},
   "outputs": [],
   "source": [
    "count_vec = CountVectorizer()\n",
    "\n",
    "word_count_vec = count_vec.fit_transform([text1])"
   ]
  },
  {
   "cell_type": "code",
   "execution_count": 8,
   "metadata": {},
   "outputs": [
    {
     "data": {
      "text/plain": [
       "<1x6 sparse matrix of type '<class 'numpy.int64'>'\n",
       "\twith 6 stored elements in Compressed Sparse Row format>"
      ]
     },
     "execution_count": 8,
     "metadata": {},
     "output_type": "execute_result"
    }
   ],
   "source": [
    "word_count_vec"
   ]
  },
  {
   "cell_type": "code",
   "execution_count": 9,
   "metadata": {},
   "outputs": [
    {
     "data": {
      "text/plain": [
       "(1, 6)"
      ]
     },
     "execution_count": 9,
     "metadata": {},
     "output_type": "execute_result"
    }
   ],
   "source": [
    "word_count_vec.shape"
   ]
  },
  {
   "cell_type": "code",
   "execution_count": 10,
   "metadata": {},
   "outputs": [],
   "source": [
    "text1 ='''Tracy loves writing about data science.'''\n",
    "text2 = '''Tracy loves writing for medium publications.'''"
   ]
  },
  {
   "cell_type": "code",
   "execution_count": 11,
   "metadata": {},
   "outputs": [
    {
     "data": {
      "text/plain": [
       "['Tracy loves writing about data science.',\n",
       " 'Tracy loves writing for medium publications.']"
      ]
     },
     "execution_count": 11,
     "metadata": {},
     "output_type": "execute_result"
    }
   ],
   "source": [
    "corpus = [text1, text2]\n",
    "corpus"
   ]
  },
  {
   "cell_type": "code",
   "execution_count": 12,
   "metadata": {},
   "outputs": [
    {
     "data": {
      "text/plain": [
       "(2, 9)"
      ]
     },
     "execution_count": 12,
     "metadata": {},
     "output_type": "execute_result"
    }
   ],
   "source": [
    "count_vec = CountVectorizer()\n",
    "\n",
    "word_count_vec = count_vec.fit_transform(corpus)\n",
    "word_count_vec.shape"
   ]
  },
  {
   "cell_type": "code",
   "execution_count": 13,
   "metadata": {},
   "outputs": [
    {
     "data": {
      "text/plain": [
       "['Tracy loves writing about data science.',\n",
       " 'Tracy loves writing for medium publications.',\n",
       " 'Tracy loves studying Python programming.',\n",
       " 'Tracy loves entering Kaggle competitions.',\n",
       " 'Tracy loves making YouTube videos.',\n",
       " 'Tracy loves getting new subscribers.']"
      ]
     },
     "execution_count": 13,
     "metadata": {},
     "output_type": "execute_result"
    }
   ],
   "source": [
    "text1 ='''Tracy loves writing about data science.'''\n",
    "text2 = '''Tracy loves writing for medium publications.'''\n",
    "text3 = '''Tracy loves studying Python programming.'''\n",
    "text4 = '''Tracy loves entering Kaggle competitions.'''\n",
    "text5 = '''Tracy loves making YouTube videos.'''\n",
    "text6 = '''Tracy loves getting new subscribers.'''\n",
    "corpus = [text1, text2, text3, text4, text5, text6]\n",
    "corpus"
   ]
  },
  {
   "cell_type": "code",
   "execution_count": 14,
   "metadata": {},
   "outputs": [
    {
     "data": {
      "text/plain": [
       "(6, 21)"
      ]
     },
     "execution_count": 14,
     "metadata": {},
     "output_type": "execute_result"
    }
   ],
   "source": [
    "count_vec = CountVectorizer()\n",
    "\n",
    "word_count_vec = count_vec.fit_transform(corpus)\n",
    "word_count_vec.shape"
   ]
  },
  {
   "cell_type": "code",
   "execution_count": 15,
   "metadata": {},
   "outputs": [
    {
     "name": "stdout",
     "output_type": "stream",
     "text": [
      "['about' 'competitions' 'data' 'entering' 'for' 'getting' 'kaggle' 'loves'\n",
      " 'making' 'medium' 'new' 'programming' 'publications' 'python' 'science'\n",
      " 'studying' 'subscribers' 'tracy' 'videos' 'writing' 'youtube']\n"
     ]
    }
   ],
   "source": [
    "print(count_vec.get_feature_names_out())"
   ]
  },
  {
   "cell_type": "code",
   "execution_count": 17,
   "metadata": {},
   "outputs": [
    {
     "name": "stdout",
     "output_type": "stream",
     "text": [
      "Vocabulary:  {'tracy': 17, 'loves': 7, 'writing': 19, 'about': 0, 'data': 2, 'science': 14, 'for': 4, 'medium': 9, 'publications': 12, 'studying': 15, 'python': 13, 'programming': 11, 'entering': 3, 'kaggle': 6, 'competitions': 1, 'making': 8, 'youtube': 20, 'videos': 18, 'getting': 5, 'new': 10, 'subscribers': 16}\n"
     ]
    }
   ],
   "source": [
    "print(\"Vocabulary: \", count_vec.vocabulary_)"
   ]
  },
  {
   "cell_type": "code",
   "execution_count": 19,
   "metadata": {},
   "outputs": [
    {
     "name": "stdout",
     "output_type": "stream",
     "text": [
      "[[1 0 1 0 0 0 0 1 0 0 0 0 0 0 1 0 0 1 0 1 0]\n",
      " [0 0 0 0 1 0 0 1 0 1 0 0 1 0 0 0 0 1 0 1 0]\n",
      " [0 0 0 0 0 0 0 1 0 0 0 1 0 1 0 1 0 1 0 0 0]\n",
      " [0 1 0 1 0 0 1 1 0 0 0 0 0 0 0 0 0 1 0 0 0]\n",
      " [0 0 0 0 0 0 0 1 1 0 0 0 0 0 0 0 0 1 1 0 1]\n",
      " [0 0 0 0 0 1 0 1 0 0 1 0 0 0 0 0 1 1 0 0 0]]\n"
     ]
    }
   ],
   "source": [
    "print(word_count_vec.toarray())"
   ]
  },
  {
   "cell_type": "code",
   "execution_count": 21,
   "metadata": {},
   "outputs": [],
   "source": [
    "from sklearn.feature_extraction.text import CountVectorizer\n",
    "\n",
    "count_vec = CountVectorizer()\n",
    "\n",
    "word_count_vec = count_vec.fit_transform(corpus)\n",
    "vector = count_vec.transform(corpus)"
   ]
  },
  {
   "cell_type": "code",
   "execution_count": 22,
   "metadata": {},
   "outputs": [
    {
     "name": "stdout",
     "output_type": "stream",
     "text": [
      "  (0, 0)\t1\n",
      "  (0, 2)\t1\n",
      "  (0, 7)\t1\n",
      "  (0, 14)\t1\n",
      "  (0, 17)\t1\n",
      "  (0, 19)\t1\n",
      "  (1, 4)\t1\n",
      "  (1, 7)\t1\n",
      "  (1, 9)\t1\n",
      "  (1, 12)\t1\n",
      "  (1, 17)\t1\n",
      "  (1, 19)\t1\n",
      "  (2, 7)\t1\n",
      "  (2, 11)\t1\n",
      "  (2, 13)\t1\n",
      "  (2, 15)\t1\n",
      "  (2, 17)\t1\n",
      "  (3, 1)\t1\n",
      "  (3, 3)\t1\n",
      "  (3, 6)\t1\n",
      "  (3, 7)\t1\n",
      "  (3, 17)\t1\n",
      "  (4, 7)\t1\n",
      "  (4, 8)\t1\n",
      "  (4, 17)\t1\n",
      "  (4, 18)\t1\n",
      "  (4, 20)\t1\n",
      "  (5, 5)\t1\n",
      "  (5, 7)\t1\n",
      "  (5, 10)\t1\n",
      "  (5, 16)\t1\n",
      "  (5, 17)\t1\n"
     ]
    }
   ],
   "source": [
    "print(vector)"
   ]
  },
  {
   "cell_type": "code",
   "execution_count": 23,
   "metadata": {},
   "outputs": [
    {
     "name": "stdout",
     "output_type": "stream",
     "text": [
      "Encoded Document is: \n",
      "[[1 0 1 0 0 0 0 1 0 0 0 0 0 0 1 0 0 1 0 1 0]\n",
      " [0 0 0 0 1 0 0 1 0 1 0 0 1 0 0 0 0 1 0 1 0]\n",
      " [0 0 0 0 0 0 0 1 0 0 0 1 0 1 0 1 0 1 0 0 0]\n",
      " [0 1 0 1 0 0 1 1 0 0 0 0 0 0 0 0 0 1 0 0 0]\n",
      " [0 0 0 0 0 0 0 1 1 0 0 0 0 0 0 0 0 1 1 0 1]\n",
      " [0 0 0 0 0 1 0 1 0 0 1 0 0 0 0 0 1 1 0 0 0]]\n"
     ]
    }
   ],
   "source": [
    "print(\"Encoded Document is: \")\n",
    "print(vector.toarray())"
   ]
  },
  {
   "cell_type": "code",
   "execution_count": 28,
   "metadata": {},
   "outputs": [
    {
     "name": "stderr",
     "output_type": "stream",
     "text": [
      "d:\\workspace\\lecture_night\\venv\\lib\\site-packages\\sklearn\\utils\\deprecation.py:87: FutureWarning: Function get_feature_names is deprecated; get_feature_names is deprecated in 1.0 and will be removed in 1.2. Please use get_feature_names_out instead.\n",
      "  warnings.warn(msg, category=FutureWarning)\n"
     ]
    },
    {
     "data": {
      "text/html": [
       "<div>\n",
       "<style scoped>\n",
       "    .dataframe tbody tr th:only-of-type {\n",
       "        vertical-align: middle;\n",
       "    }\n",
       "\n",
       "    .dataframe tbody tr th {\n",
       "        vertical-align: top;\n",
       "    }\n",
       "\n",
       "    .dataframe thead th {\n",
       "        text-align: right;\n",
       "    }\n",
       "</style>\n",
       "<table border=\"1\" class=\"dataframe\">\n",
       "  <thead>\n",
       "    <tr style=\"text-align: right;\">\n",
       "      <th></th>\n",
       "      <th>about</th>\n",
       "      <th>competitions</th>\n",
       "      <th>data</th>\n",
       "      <th>entering</th>\n",
       "      <th>for</th>\n",
       "      <th>getting</th>\n",
       "      <th>kaggle</th>\n",
       "      <th>loves</th>\n",
       "      <th>making</th>\n",
       "      <th>medium</th>\n",
       "      <th>new</th>\n",
       "      <th>programming</th>\n",
       "      <th>publications</th>\n",
       "      <th>python</th>\n",
       "      <th>science</th>\n",
       "      <th>studying</th>\n",
       "      <th>subscribers</th>\n",
       "      <th>tracy</th>\n",
       "      <th>videos</th>\n",
       "      <th>writing</th>\n",
       "      <th>youtube</th>\n",
       "    </tr>\n",
       "  </thead>\n",
       "  <tbody>\n",
       "    <tr>\n",
       "      <th>doc1</th>\n",
       "      <td>1</td>\n",
       "      <td>0</td>\n",
       "      <td>1</td>\n",
       "      <td>0</td>\n",
       "      <td>0</td>\n",
       "      <td>0</td>\n",
       "      <td>0</td>\n",
       "      <td>1</td>\n",
       "      <td>0</td>\n",
       "      <td>0</td>\n",
       "      <td>0</td>\n",
       "      <td>0</td>\n",
       "      <td>0</td>\n",
       "      <td>0</td>\n",
       "      <td>1</td>\n",
       "      <td>0</td>\n",
       "      <td>0</td>\n",
       "      <td>1</td>\n",
       "      <td>0</td>\n",
       "      <td>1</td>\n",
       "      <td>0</td>\n",
       "    </tr>\n",
       "    <tr>\n",
       "      <th>doc2</th>\n",
       "      <td>0</td>\n",
       "      <td>0</td>\n",
       "      <td>0</td>\n",
       "      <td>0</td>\n",
       "      <td>1</td>\n",
       "      <td>0</td>\n",
       "      <td>0</td>\n",
       "      <td>1</td>\n",
       "      <td>0</td>\n",
       "      <td>1</td>\n",
       "      <td>0</td>\n",
       "      <td>0</td>\n",
       "      <td>1</td>\n",
       "      <td>0</td>\n",
       "      <td>0</td>\n",
       "      <td>0</td>\n",
       "      <td>0</td>\n",
       "      <td>1</td>\n",
       "      <td>0</td>\n",
       "      <td>1</td>\n",
       "      <td>0</td>\n",
       "    </tr>\n",
       "    <tr>\n",
       "      <th>doc3</th>\n",
       "      <td>0</td>\n",
       "      <td>0</td>\n",
       "      <td>0</td>\n",
       "      <td>0</td>\n",
       "      <td>0</td>\n",
       "      <td>0</td>\n",
       "      <td>0</td>\n",
       "      <td>1</td>\n",
       "      <td>0</td>\n",
       "      <td>0</td>\n",
       "      <td>0</td>\n",
       "      <td>1</td>\n",
       "      <td>0</td>\n",
       "      <td>1</td>\n",
       "      <td>0</td>\n",
       "      <td>1</td>\n",
       "      <td>0</td>\n",
       "      <td>1</td>\n",
       "      <td>0</td>\n",
       "      <td>0</td>\n",
       "      <td>0</td>\n",
       "    </tr>\n",
       "    <tr>\n",
       "      <th>doc4</th>\n",
       "      <td>0</td>\n",
       "      <td>1</td>\n",
       "      <td>0</td>\n",
       "      <td>1</td>\n",
       "      <td>0</td>\n",
       "      <td>0</td>\n",
       "      <td>1</td>\n",
       "      <td>1</td>\n",
       "      <td>0</td>\n",
       "      <td>0</td>\n",
       "      <td>0</td>\n",
       "      <td>0</td>\n",
       "      <td>0</td>\n",
       "      <td>0</td>\n",
       "      <td>0</td>\n",
       "      <td>0</td>\n",
       "      <td>0</td>\n",
       "      <td>1</td>\n",
       "      <td>0</td>\n",
       "      <td>0</td>\n",
       "      <td>0</td>\n",
       "    </tr>\n",
       "    <tr>\n",
       "      <th>doc5</th>\n",
       "      <td>0</td>\n",
       "      <td>0</td>\n",
       "      <td>0</td>\n",
       "      <td>0</td>\n",
       "      <td>0</td>\n",
       "      <td>0</td>\n",
       "      <td>0</td>\n",
       "      <td>1</td>\n",
       "      <td>1</td>\n",
       "      <td>0</td>\n",
       "      <td>0</td>\n",
       "      <td>0</td>\n",
       "      <td>0</td>\n",
       "      <td>0</td>\n",
       "      <td>0</td>\n",
       "      <td>0</td>\n",
       "      <td>0</td>\n",
       "      <td>1</td>\n",
       "      <td>1</td>\n",
       "      <td>0</td>\n",
       "      <td>1</td>\n",
       "    </tr>\n",
       "    <tr>\n",
       "      <th>doc6</th>\n",
       "      <td>0</td>\n",
       "      <td>0</td>\n",
       "      <td>0</td>\n",
       "      <td>0</td>\n",
       "      <td>0</td>\n",
       "      <td>1</td>\n",
       "      <td>0</td>\n",
       "      <td>1</td>\n",
       "      <td>0</td>\n",
       "      <td>0</td>\n",
       "      <td>1</td>\n",
       "      <td>0</td>\n",
       "      <td>0</td>\n",
       "      <td>0</td>\n",
       "      <td>0</td>\n",
       "      <td>0</td>\n",
       "      <td>1</td>\n",
       "      <td>1</td>\n",
       "      <td>0</td>\n",
       "      <td>0</td>\n",
       "      <td>0</td>\n",
       "    </tr>\n",
       "  </tbody>\n",
       "</table>\n",
       "</div>"
      ],
      "text/plain": [
       "      about  competitions  data  entering  for  getting  kaggle  loves  \\\n",
       "doc1      1             0     1         0    0        0       0      1   \n",
       "doc2      0             0     0         0    1        0       0      1   \n",
       "doc3      0             0     0         0    0        0       0      1   \n",
       "doc4      0             1     0         1    0        0       1      1   \n",
       "doc5      0             0     0         0    0        0       0      1   \n",
       "doc6      0             0     0         0    0        1       0      1   \n",
       "\n",
       "      making  medium  new  programming  publications  python  science  \\\n",
       "doc1       0       0    0            0             0       0        1   \n",
       "doc2       0       1    0            0             1       0        0   \n",
       "doc3       0       0    0            1             0       1        0   \n",
       "doc4       0       0    0            0             0       0        0   \n",
       "doc5       1       0    0            0             0       0        0   \n",
       "doc6       0       0    1            0             0       0        0   \n",
       "\n",
       "      studying  subscribers  tracy  videos  writing  youtube  \n",
       "doc1         0            0      1       0        1        0  \n",
       "doc2         0            0      1       0        1        0  \n",
       "doc3         1            0      1       0        0        0  \n",
       "doc4         0            0      1       0        0        0  \n",
       "doc5         0            0      1       1        0        1  \n",
       "doc6         0            1      1       0        0        0  "
      ]
     },
     "execution_count": 28,
     "metadata": {},
     "output_type": "execute_result"
    }
   ],
   "source": [
    "matrix = count_vec.fit_transform(corpus)\n",
    "pd.set_option(\"display.max_columns\", None)\n",
    "counts = pd.DataFrame(matrix.toarray(), index = [\"doc1\", \"doc2\", \"doc3\", \"doc4\", \"doc5\", \"doc6\"], columns = count_vec.get_feature_names())\n",
    "counts\n",
    "\n",
    "# Tracy loves making YouTube videos :doc5"
   ]
  },
  {
   "cell_type": "code",
   "execution_count": 29,
   "metadata": {},
   "outputs": [
    {
     "data": {
      "text/html": [
       "<div>\n",
       "<style scoped>\n",
       "    .dataframe tbody tr th:only-of-type {\n",
       "        vertical-align: middle;\n",
       "    }\n",
       "\n",
       "    .dataframe tbody tr th {\n",
       "        vertical-align: top;\n",
       "    }\n",
       "\n",
       "    .dataframe thead th {\n",
       "        text-align: right;\n",
       "    }\n",
       "</style>\n",
       "<table border=\"1\" class=\"dataframe\">\n",
       "  <thead>\n",
       "    <tr style=\"text-align: right;\">\n",
       "      <th></th>\n",
       "      <th>about</th>\n",
       "      <th>competitions</th>\n",
       "      <th>data</th>\n",
       "      <th>entering</th>\n",
       "      <th>for</th>\n",
       "      <th>getting</th>\n",
       "      <th>kaggle</th>\n",
       "      <th>loves</th>\n",
       "      <th>making</th>\n",
       "      <th>medium</th>\n",
       "      <th>new</th>\n",
       "      <th>programming</th>\n",
       "      <th>publications</th>\n",
       "      <th>python</th>\n",
       "      <th>science</th>\n",
       "      <th>studying</th>\n",
       "      <th>subscribers</th>\n",
       "      <th>tracy</th>\n",
       "      <th>videos</th>\n",
       "      <th>writing</th>\n",
       "      <th>youtube</th>\n",
       "    </tr>\n",
       "  </thead>\n",
       "  <tbody>\n",
       "    <tr>\n",
       "      <th>doc1</th>\n",
       "      <td>1.0</td>\n",
       "      <td>0.0</td>\n",
       "      <td>1.0</td>\n",
       "      <td>0.0</td>\n",
       "      <td>0.0</td>\n",
       "      <td>0.0</td>\n",
       "      <td>0.0</td>\n",
       "      <td>1.0</td>\n",
       "      <td>0.0</td>\n",
       "      <td>0.0</td>\n",
       "      <td>0.0</td>\n",
       "      <td>0.0</td>\n",
       "      <td>0.0</td>\n",
       "      <td>0.0</td>\n",
       "      <td>1.0</td>\n",
       "      <td>0.0</td>\n",
       "      <td>0.0</td>\n",
       "      <td>1.0</td>\n",
       "      <td>0.0</td>\n",
       "      <td>1.0</td>\n",
       "      <td>0.0</td>\n",
       "    </tr>\n",
       "    <tr>\n",
       "      <th>doc2</th>\n",
       "      <td>0.0</td>\n",
       "      <td>0.0</td>\n",
       "      <td>0.0</td>\n",
       "      <td>0.0</td>\n",
       "      <td>1.0</td>\n",
       "      <td>0.0</td>\n",
       "      <td>0.0</td>\n",
       "      <td>1.0</td>\n",
       "      <td>0.0</td>\n",
       "      <td>1.0</td>\n",
       "      <td>0.0</td>\n",
       "      <td>0.0</td>\n",
       "      <td>1.0</td>\n",
       "      <td>0.0</td>\n",
       "      <td>0.0</td>\n",
       "      <td>0.0</td>\n",
       "      <td>0.0</td>\n",
       "      <td>1.0</td>\n",
       "      <td>0.0</td>\n",
       "      <td>1.0</td>\n",
       "      <td>0.0</td>\n",
       "    </tr>\n",
       "    <tr>\n",
       "      <th>doc3</th>\n",
       "      <td>0.0</td>\n",
       "      <td>0.0</td>\n",
       "      <td>0.0</td>\n",
       "      <td>0.0</td>\n",
       "      <td>0.0</td>\n",
       "      <td>0.0</td>\n",
       "      <td>0.0</td>\n",
       "      <td>1.0</td>\n",
       "      <td>0.0</td>\n",
       "      <td>0.0</td>\n",
       "      <td>0.0</td>\n",
       "      <td>1.0</td>\n",
       "      <td>0.0</td>\n",
       "      <td>1.0</td>\n",
       "      <td>0.0</td>\n",
       "      <td>1.0</td>\n",
       "      <td>0.0</td>\n",
       "      <td>1.0</td>\n",
       "      <td>0.0</td>\n",
       "      <td>0.0</td>\n",
       "      <td>0.0</td>\n",
       "    </tr>\n",
       "    <tr>\n",
       "      <th>doc4</th>\n",
       "      <td>0.0</td>\n",
       "      <td>1.0</td>\n",
       "      <td>0.0</td>\n",
       "      <td>1.0</td>\n",
       "      <td>0.0</td>\n",
       "      <td>0.0</td>\n",
       "      <td>1.0</td>\n",
       "      <td>1.0</td>\n",
       "      <td>0.0</td>\n",
       "      <td>0.0</td>\n",
       "      <td>0.0</td>\n",
       "      <td>0.0</td>\n",
       "      <td>0.0</td>\n",
       "      <td>0.0</td>\n",
       "      <td>0.0</td>\n",
       "      <td>0.0</td>\n",
       "      <td>0.0</td>\n",
       "      <td>1.0</td>\n",
       "      <td>0.0</td>\n",
       "      <td>0.0</td>\n",
       "      <td>0.0</td>\n",
       "    </tr>\n",
       "    <tr>\n",
       "      <th>doc5</th>\n",
       "      <td>0.0</td>\n",
       "      <td>0.0</td>\n",
       "      <td>0.0</td>\n",
       "      <td>0.0</td>\n",
       "      <td>0.0</td>\n",
       "      <td>0.0</td>\n",
       "      <td>0.0</td>\n",
       "      <td>1.0</td>\n",
       "      <td>1.0</td>\n",
       "      <td>0.0</td>\n",
       "      <td>0.0</td>\n",
       "      <td>0.0</td>\n",
       "      <td>0.0</td>\n",
       "      <td>0.0</td>\n",
       "      <td>0.0</td>\n",
       "      <td>0.0</td>\n",
       "      <td>0.0</td>\n",
       "      <td>1.0</td>\n",
       "      <td>1.0</td>\n",
       "      <td>0.0</td>\n",
       "      <td>1.0</td>\n",
       "    </tr>\n",
       "    <tr>\n",
       "      <th>doc6</th>\n",
       "      <td>0.0</td>\n",
       "      <td>0.0</td>\n",
       "      <td>0.0</td>\n",
       "      <td>0.0</td>\n",
       "      <td>0.0</td>\n",
       "      <td>1.0</td>\n",
       "      <td>0.0</td>\n",
       "      <td>1.0</td>\n",
       "      <td>0.0</td>\n",
       "      <td>0.0</td>\n",
       "      <td>1.0</td>\n",
       "      <td>0.0</td>\n",
       "      <td>0.0</td>\n",
       "      <td>0.0</td>\n",
       "      <td>0.0</td>\n",
       "      <td>0.0</td>\n",
       "      <td>1.0</td>\n",
       "      <td>1.0</td>\n",
       "      <td>0.0</td>\n",
       "      <td>0.0</td>\n",
       "      <td>0.0</td>\n",
       "    </tr>\n",
       "    <tr>\n",
       "      <th>Total</th>\n",
       "      <td>1.0</td>\n",
       "      <td>1.0</td>\n",
       "      <td>1.0</td>\n",
       "      <td>1.0</td>\n",
       "      <td>1.0</td>\n",
       "      <td>1.0</td>\n",
       "      <td>1.0</td>\n",
       "      <td>6.0</td>\n",
       "      <td>1.0</td>\n",
       "      <td>1.0</td>\n",
       "      <td>1.0</td>\n",
       "      <td>1.0</td>\n",
       "      <td>1.0</td>\n",
       "      <td>1.0</td>\n",
       "      <td>1.0</td>\n",
       "      <td>1.0</td>\n",
       "      <td>1.0</td>\n",
       "      <td>6.0</td>\n",
       "      <td>1.0</td>\n",
       "      <td>2.0</td>\n",
       "      <td>1.0</td>\n",
       "    </tr>\n",
       "  </tbody>\n",
       "</table>\n",
       "</div>"
      ],
      "text/plain": [
       "       about  competitions  data  entering  for  getting  kaggle  loves  \\\n",
       "doc1     1.0           0.0   1.0       0.0  0.0      0.0     0.0    1.0   \n",
       "doc2     0.0           0.0   0.0       0.0  1.0      0.0     0.0    1.0   \n",
       "doc3     0.0           0.0   0.0       0.0  0.0      0.0     0.0    1.0   \n",
       "doc4     0.0           1.0   0.0       1.0  0.0      0.0     1.0    1.0   \n",
       "doc5     0.0           0.0   0.0       0.0  0.0      0.0     0.0    1.0   \n",
       "doc6     0.0           0.0   0.0       0.0  0.0      1.0     0.0    1.0   \n",
       "Total    1.0           1.0   1.0       1.0  1.0      1.0     1.0    6.0   \n",
       "\n",
       "       making  medium  new  programming  publications  python  science  \\\n",
       "doc1      0.0     0.0  0.0          0.0           0.0     0.0      1.0   \n",
       "doc2      0.0     1.0  0.0          0.0           1.0     0.0      0.0   \n",
       "doc3      0.0     0.0  0.0          1.0           0.0     1.0      0.0   \n",
       "doc4      0.0     0.0  0.0          0.0           0.0     0.0      0.0   \n",
       "doc5      1.0     0.0  0.0          0.0           0.0     0.0      0.0   \n",
       "doc6      0.0     0.0  1.0          0.0           0.0     0.0      0.0   \n",
       "Total     1.0     1.0  1.0          1.0           1.0     1.0      1.0   \n",
       "\n",
       "       studying  subscribers  tracy  videos  writing  youtube  \n",
       "doc1        0.0          0.0    1.0     0.0      1.0      0.0  \n",
       "doc2        0.0          0.0    1.0     0.0      1.0      0.0  \n",
       "doc3        1.0          0.0    1.0     0.0      0.0      0.0  \n",
       "doc4        0.0          0.0    1.0     0.0      0.0      0.0  \n",
       "doc5        0.0          0.0    1.0     1.0      0.0      1.0  \n",
       "doc6        0.0          1.0    1.0     0.0      0.0      0.0  \n",
       "Total       1.0          1.0    6.0     1.0      2.0      1.0  "
      ]
     },
     "execution_count": 29,
     "metadata": {},
     "output_type": "execute_result"
    }
   ],
   "source": [
    "counts.loc[\"Total\", :] = counts.sum()\n",
    "counts"
   ]
  },
  {
   "cell_type": "code",
   "execution_count": null,
   "metadata": {},
   "outputs": [],
   "source": []
  }
 ],
 "metadata": {
  "kernelspec": {
   "display_name": "Python 3.9.6 64-bit",
   "language": "python",
   "name": "python3"
  },
  "language_info": {
   "codemirror_mode": {
    "name": "ipython",
    "version": 3
   },
   "file_extension": ".py",
   "mimetype": "text/x-python",
   "name": "python",
   "nbconvert_exporter": "python",
   "pygments_lexer": "ipython3",
   "version": "3.9.6"
  },
  "vscode": {
   "interpreter": {
    "hash": "fb0118d73d3d26f88e0d1e3500a56a7fc92e760d5128bb0bdb4d57f6bad5166f"
   }
  }
 },
 "nbformat": 4,
 "nbformat_minor": 2
}
